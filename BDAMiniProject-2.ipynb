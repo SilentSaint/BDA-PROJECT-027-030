{
 "cells": [
  {
   "cell_type": "code",
   "execution_count": null,
   "metadata": {
    "colab": {
     "base_uri": "https://localhost:8080/"
    },
    "id": "lJ64F-3FkcvB",
    "outputId": "e2c0fba3-2033-4c2c-a47a-67d5d3d236b7"
   },
   "outputs": [
    {
     "name": "stdout",
     "output_type": "stream",
     "text": [
      "Looking in indexes: https://pypi.org/simple, https://us-python.pkg.dev/colab-wheels/public/simple/\n",
      "Collecting pyspark\n",
      "  Downloading pyspark-3.3.0.tar.gz (281.3 MB)\n",
      "\u001b[K     |████████████████████████████████| 281.3 MB 51 kB/s \n",
      "\u001b[?25hCollecting py4j==0.10.9.5\n",
      "  Downloading py4j-0.10.9.5-py2.py3-none-any.whl (199 kB)\n",
      "\u001b[K     |████████████████████████████████| 199 kB 41.3 MB/s \n",
      "\u001b[?25hBuilding wheels for collected packages: pyspark\n",
      "  Building wheel for pyspark (setup.py) ... \u001b[?25l\u001b[?25hdone\n",
      "  Created wheel for pyspark: filename=pyspark-3.3.0-py2.py3-none-any.whl size=281764026 sha256=e4fac1411af135fd8742274544ad9a457f73ef6b03520250000b194d0d1e3d29\n",
      "  Stored in directory: /root/.cache/pip/wheels/7a/8e/1b/f73a52650d2e5f337708d9f6a1750d451a7349a867f928b885\n",
      "Successfully built pyspark\n",
      "Installing collected packages: py4j, pyspark\n",
      "Successfully installed py4j-0.10.9.5 pyspark-3.3.0\n"
     ]
    }
   ],
   "source": [
    "pip install pyspark"
   ]
  },
  {
   "cell_type": "code",
   "execution_count": null,
   "metadata": {
    "id": "OmQcS2iZk3G3"
   },
   "outputs": [],
   "source": [
    "from pyspark import SparkContext"
   ]
  },
  {
   "cell_type": "code",
   "execution_count": null,
   "metadata": {
    "id": "U-ymegM2lTzl"
   },
   "outputs": [],
   "source": [
    "sc = SparkContext(master=\"local[2]\")"
   ]
  },
  {
   "cell_type": "code",
   "execution_count": null,
   "metadata": {
    "colab": {
     "base_uri": "https://localhost:8080/",
     "height": 193
    },
    "id": "pwo8u5q2lUEZ",
    "outputId": "44e94f31-323e-47f1-d9ff-bad1a70ea583"
   },
   "outputs": [
    {
     "data": {
      "text/html": [
       "\n",
       "        <div>\n",
       "            <p><b>SparkContext</b></p>\n",
       "\n",
       "            <p><a href=\"http://c4cb41e6b5f4:4040\">Spark UI</a></p>\n",
       "\n",
       "            <dl>\n",
       "              <dt>Version</dt>\n",
       "                <dd><code>v3.3.0</code></dd>\n",
       "              <dt>Master</dt>\n",
       "                <dd><code>local[2]</code></dd>\n",
       "              <dt>AppName</dt>\n",
       "                <dd><code>pyspark-shell</code></dd>\n",
       "            </dl>\n",
       "        </div>\n",
       "        "
      ],
      "text/plain": [
       "<SparkContext master=local[2] appName=pyspark-shell>"
      ]
     },
     "execution_count": 4,
     "metadata": {},
     "output_type": "execute_result"
    }
   ],
   "source": [
    "sc"
   ]
  },
  {
   "cell_type": "code",
   "execution_count": null,
   "metadata": {
    "id": "U3vlH9x1lUHH"
   },
   "outputs": [],
   "source": [
    "import pyspark"
   ]
  },
  {
   "cell_type": "code",
   "execution_count": null,
   "metadata": {
    "id": "B8xAuQvGlUMW"
   },
   "outputs": [],
   "source": [
    "from pyspark.sql import SparkSession"
   ]
  },
  {
   "cell_type": "code",
   "execution_count": null,
   "metadata": {
    "id": "YBE5zFFdlpLt"
   },
   "outputs": [],
   "source": [
    "spark = SparkSession.builder.appName(\"BDA_Project\").getOrCreate()"
   ]
  },
  {
   "cell_type": "code",
   "execution_count": null,
   "metadata": {
    "id": "AqguLCARlUPL"
   },
   "outputs": [],
   "source": [
    "df = spark.read.csv(\"/content/train.csv\")"
   ]
  },
  {
   "cell_type": "code",
   "execution_count": null,
   "metadata": {
    "colab": {
     "base_uri": "https://localhost:8080/"
    },
    "id": "ppphazx3lUSb",
    "outputId": "c33aba8b-5425-4822-97e4-99ac8ce619b8"
   },
   "outputs": [
    {
     "name": "stdout",
     "output_type": "stream",
     "text": [
      "+-------------------+--------------+--------------------+---------+----------+--------------+--------------------+-------------------+-----------------+\n",
      "|                _c0|           _c1|                 _c2|      _c3|       _c4|           _c5|                 _c6|                _c7|              _c8|\n",
      "+-------------------+--------------+--------------------+---------+----------+--------------+--------------------+-------------------+-----------------+\n",
      "|              Dates|      Category|            Descript|DayOfWeek|PdDistrict|    Resolution|             Address|                  X|                Y|\n",
      "|2015-05-13 23:53:00|      WARRANTS|      WARRANT ARREST|Wednesday|  NORTHERN|ARREST, BOOKED|  OAK ST / LAGUNA ST|  -122.425891675136| 37.7745985956747|\n",
      "|2015-05-13 23:53:00|OTHER OFFENSES|TRAFFIC VIOLATION...|Wednesday|  NORTHERN|ARREST, BOOKED|  OAK ST / LAGUNA ST|  -122.425891675136| 37.7745985956747|\n",
      "|2015-05-13 23:33:00|OTHER OFFENSES|TRAFFIC VIOLATION...|Wednesday|  NORTHERN|ARREST, BOOKED|VANNESS AV / GREE...|   -122.42436302145| 37.8004143219856|\n",
      "|2015-05-13 23:30:00| LARCENY/THEFT|GRAND THEFT FROM ...|Wednesday|  NORTHERN|          NONE|1500 Block of LOM...|-122.42699532676599|37.80087263276921|\n",
      "+-------------------+--------------+--------------------+---------+----------+--------------+--------------------+-------------------+-----------------+\n",
      "only showing top 5 rows\n",
      "\n"
     ]
    }
   ],
   "source": [
    "df.show(5)"
   ]
  },
  {
   "cell_type": "code",
   "execution_count": null,
   "metadata": {
    "id": "Ro-N5lnzlUVS"
   },
   "outputs": [],
   "source": [
    "df = spark.read.csv(\"/content/train.csv\",header=True)"
   ]
  },
  {
   "cell_type": "code",
   "execution_count": null,
   "metadata": {
    "colab": {
     "base_uri": "https://localhost:8080/"
    },
    "id": "yzAVYi5olUXo",
    "outputId": "c0a713ed-2546-4653-a70f-b642e9ec74cc"
   },
   "outputs": [
    {
     "name": "stdout",
     "output_type": "stream",
     "text": [
      "+-------------------+--------------+--------------------+---------+----------+--------------+--------------------+-------------------+------------------+\n",
      "|              Dates|      Category|            Descript|DayOfWeek|PdDistrict|    Resolution|             Address|                  X|                 Y|\n",
      "+-------------------+--------------+--------------------+---------+----------+--------------+--------------------+-------------------+------------------+\n",
      "|2015-05-13 23:53:00|      WARRANTS|      WARRANT ARREST|Wednesday|  NORTHERN|ARREST, BOOKED|  OAK ST / LAGUNA ST|  -122.425891675136|  37.7745985956747|\n",
      "|2015-05-13 23:53:00|OTHER OFFENSES|TRAFFIC VIOLATION...|Wednesday|  NORTHERN|ARREST, BOOKED|  OAK ST / LAGUNA ST|  -122.425891675136|  37.7745985956747|\n",
      "|2015-05-13 23:33:00|OTHER OFFENSES|TRAFFIC VIOLATION...|Wednesday|  NORTHERN|ARREST, BOOKED|VANNESS AV / GREE...|   -122.42436302145|  37.8004143219856|\n",
      "|2015-05-13 23:30:00| LARCENY/THEFT|GRAND THEFT FROM ...|Wednesday|  NORTHERN|          NONE|1500 Block of LOM...|-122.42699532676599| 37.80087263276921|\n",
      "|2015-05-13 23:30:00| LARCENY/THEFT|GRAND THEFT FROM ...|Wednesday|      PARK|          NONE|100 Block of BROD...|  -122.438737622757|37.771541172057795|\n",
      "+-------------------+--------------+--------------------+---------+----------+--------------+--------------------+-------------------+------------------+\n",
      "only showing top 5 rows\n",
      "\n"
     ]
    }
   ],
   "source": [
    "df.show(5)"
   ]
  },
  {
   "cell_type": "code",
   "execution_count": null,
   "metadata": {
    "colab": {
     "base_uri": "https://localhost:8080/"
    },
    "id": "_H1wJmynmhPB",
    "outputId": "eb37d98a-9157-46c3-ab83-0016d4fb3776"
   },
   "outputs": [
    {
     "data": {
      "text/plain": [
       "158942"
      ]
     },
     "execution_count": 13,
     "metadata": {},
     "output_type": "execute_result"
    }
   ],
   "source": [
    "df.count()"
   ]
  },
  {
   "cell_type": "code",
   "execution_count": null,
   "metadata": {
    "colab": {
     "base_uri": "https://localhost:8080/"
    },
    "id": "oZmd_asFoR8B",
    "outputId": "cb92bfd8-2edc-402f-a516-9ea950e67d08"
   },
   "outputs": [
    {
     "name": "stdout",
     "output_type": "stream",
     "text": [
      "+--------------------+-----+\n",
      "|            Category|count|\n",
      "+--------------------+-----+\n",
      "|               FRAUD| 3034|\n",
      "|             SUICIDE|   55|\n",
      "|SEX OFFENSES FORC...|  830|\n",
      "|         LIQUOR LAWS|  208|\n",
      "|     SECONDARY CODES| 2021|\n",
      "|     FAMILY OFFENSES|   77|\n",
      "|      MISSING PERSON| 4761|\n",
      "|      OTHER OFFENSES|20911|\n",
      "|DRIVING UNDER THE...|  408|\n",
      "|            WARRANTS| 7243|\n",
      "|               ARSON|  263|\n",
      "|SEX OFFENSES NON ...|   23|\n",
      "|FORGERY/COUNTERFE...|  866|\n",
      "|            GAMBLING|   14|\n",
      "|             BRIBERY|   67|\n",
      "|             ASSAULT|13316|\n",
      "|         DRUNKENNESS|  800|\n",
      "|           EXTORTION|   32|\n",
      "|                TREA|    3|\n",
      "|         WEAPON LAWS| 1647|\n",
      "+--------------------+-----+\n",
      "only showing top 20 rows\n",
      "\n"
     ]
    }
   ],
   "source": [
    "df.groupBy('Category').count().show()"
   ]
  },
  {
   "cell_type": "code",
   "execution_count": null,
   "metadata": {
    "colab": {
     "base_uri": "https://localhost:8080/"
    },
    "id": "feWwelXroSKA",
    "outputId": "26301759-31e8-4177-8a86-6e141a7921b5"
   },
   "outputs": [
    {
     "data": {
      "text/plain": [
       "39"
      ]
     },
     "execution_count": 17,
     "metadata": {},
     "output_type": "execute_result"
    }
   ],
   "source": [
    "df.select('category').distinct().count()"
   ]
  },
  {
   "cell_type": "code",
   "execution_count": null,
   "metadata": {
    "id": "bS25Cen9rjw3"
   },
   "outputs": [],
   "source": [
    "import warnings\n",
    "import seaborn as sns\n",
    "import matplotlib.pyplot as plt\n"
   ]
  },
  {
   "cell_type": "code",
   "execution_count": null,
   "metadata": {
    "id": "6fUb-uaDsDSe"
   },
   "outputs": [],
   "source": [
    "import pandas as pd\n",
    "import numpy as np"
   ]
  },
  {
   "cell_type": "code",
   "execution_count": null,
   "metadata": {
    "id": "wF6MnOi7v5N2"
   },
   "outputs": [],
   "source": [
    "train = spark.read.csv(\"/content/train.csv\")\n",
    "test = spark.read.csv(\"/content/test.csv\")"
   ]
  },
  {
   "cell_type": "code",
   "execution_count": 4,
   "metadata": {
    "colab": {
     "base_uri": "https://localhost:8080/",
     "height": 523
    },
    "id": "ov4rSipk0Eak",
    "outputId": "7118ccca-d2d3-40ab-f79c-6dfda590a8e5"
   },
   "outputs": [
    {
     "data": {
      "text/html": [
       "\n",
       "  <div id=\"df-8eda95d6-5cfe-40aa-a22f-2232b6348c09\">\n",
       "    <div class=\"colab-df-container\">\n",
       "      <div>\n",
       "<style scoped>\n",
       "    .dataframe tbody tr th:only-of-type {\n",
       "        vertical-align: middle;\n",
       "    }\n",
       "\n",
       "    .dataframe tbody tr th {\n",
       "        vertical-align: top;\n",
       "    }\n",
       "\n",
       "    .dataframe thead th {\n",
       "        text-align: right;\n",
       "    }\n",
       "</style>\n",
       "<table border=\"1\" class=\"dataframe\">\n",
       "  <thead>\n",
       "    <tr style=\"text-align: right;\">\n",
       "      <th></th>\n",
       "      <th>Dates</th>\n",
       "      <th>Category</th>\n",
       "      <th>Descript</th>\n",
       "      <th>DayOfWeek</th>\n",
       "      <th>PdDistrict</th>\n",
       "      <th>Resolution</th>\n",
       "      <th>Address</th>\n",
       "      <th>X</th>\n",
       "      <th>Y</th>\n",
       "    </tr>\n",
       "  </thead>\n",
       "  <tbody>\n",
       "    <tr>\n",
       "      <th>0</th>\n",
       "      <td>2015-05-13 23:53:00</td>\n",
       "      <td>WARRANTS</td>\n",
       "      <td>WARRANT ARREST</td>\n",
       "      <td>Wednesday</td>\n",
       "      <td>NORTHERN</td>\n",
       "      <td>ARREST, BOOKED</td>\n",
       "      <td>OAK ST / LAGUNA ST</td>\n",
       "      <td>-122.425892</td>\n",
       "      <td>37.774599</td>\n",
       "    </tr>\n",
       "    <tr>\n",
       "      <th>1</th>\n",
       "      <td>2015-05-13 23:53:00</td>\n",
       "      <td>OTHER OFFENSES</td>\n",
       "      <td>TRAFFIC VIOLATION ARREST</td>\n",
       "      <td>Wednesday</td>\n",
       "      <td>NORTHERN</td>\n",
       "      <td>ARREST, BOOKED</td>\n",
       "      <td>OAK ST / LAGUNA ST</td>\n",
       "      <td>-122.425892</td>\n",
       "      <td>37.774599</td>\n",
       "    </tr>\n",
       "    <tr>\n",
       "      <th>2</th>\n",
       "      <td>2015-05-13 23:33:00</td>\n",
       "      <td>OTHER OFFENSES</td>\n",
       "      <td>TRAFFIC VIOLATION ARREST</td>\n",
       "      <td>Wednesday</td>\n",
       "      <td>NORTHERN</td>\n",
       "      <td>ARREST, BOOKED</td>\n",
       "      <td>VANNESS AV / GREENWICH ST</td>\n",
       "      <td>-122.424363</td>\n",
       "      <td>37.800414</td>\n",
       "    </tr>\n",
       "    <tr>\n",
       "      <th>3</th>\n",
       "      <td>2015-05-13 23:30:00</td>\n",
       "      <td>LARCENY/THEFT</td>\n",
       "      <td>GRAND THEFT FROM LOCKED AUTO</td>\n",
       "      <td>Wednesday</td>\n",
       "      <td>NORTHERN</td>\n",
       "      <td>NONE</td>\n",
       "      <td>1500 Block of LOMBARD ST</td>\n",
       "      <td>-122.426995</td>\n",
       "      <td>37.800873</td>\n",
       "    </tr>\n",
       "    <tr>\n",
       "      <th>4</th>\n",
       "      <td>2015-05-13 23:30:00</td>\n",
       "      <td>LARCENY/THEFT</td>\n",
       "      <td>GRAND THEFT FROM LOCKED AUTO</td>\n",
       "      <td>Wednesday</td>\n",
       "      <td>PARK</td>\n",
       "      <td>NONE</td>\n",
       "      <td>100 Block of BRODERICK ST</td>\n",
       "      <td>-122.438738</td>\n",
       "      <td>37.771541</td>\n",
       "    </tr>\n",
       "  </tbody>\n",
       "</table>\n",
       "</div>\n",
       "      <button class=\"colab-df-convert\" onclick=\"convertToInteractive('df-8eda95d6-5cfe-40aa-a22f-2232b6348c09')\"\n",
       "              title=\"Convert this dataframe to an interactive table.\"\n",
       "              style=\"display:none;\">\n",
       "        \n",
       "  <svg xmlns=\"http://www.w3.org/2000/svg\" height=\"24px\"viewBox=\"0 0 24 24\"\n",
       "       width=\"24px\">\n",
       "    <path d=\"M0 0h24v24H0V0z\" fill=\"none\"/>\n",
       "    <path d=\"M18.56 5.44l.94 2.06.94-2.06 2.06-.94-2.06-.94-.94-2.06-.94 2.06-2.06.94zm-11 1L8.5 8.5l.94-2.06 2.06-.94-2.06-.94L8.5 2.5l-.94 2.06-2.06.94zm10 10l.94 2.06.94-2.06 2.06-.94-2.06-.94-.94-2.06-.94 2.06-2.06.94z\"/><path d=\"M17.41 7.96l-1.37-1.37c-.4-.4-.92-.59-1.43-.59-.52 0-1.04.2-1.43.59L10.3 9.45l-7.72 7.72c-.78.78-.78 2.05 0 2.83L4 21.41c.39.39.9.59 1.41.59.51 0 1.02-.2 1.41-.59l7.78-7.78 2.81-2.81c.8-.78.8-2.07 0-2.86zM5.41 20L4 18.59l7.72-7.72 1.47 1.35L5.41 20z\"/>\n",
       "  </svg>\n",
       "      </button>\n",
       "      \n",
       "  <style>\n",
       "    .colab-df-container {\n",
       "      display:flex;\n",
       "      flex-wrap:wrap;\n",
       "      gap: 12px;\n",
       "    }\n",
       "\n",
       "    .colab-df-convert {\n",
       "      background-color: #E8F0FE;\n",
       "      border: none;\n",
       "      border-radius: 50%;\n",
       "      cursor: pointer;\n",
       "      display: none;\n",
       "      fill: #1967D2;\n",
       "      height: 32px;\n",
       "      padding: 0 0 0 0;\n",
       "      width: 32px;\n",
       "    }\n",
       "\n",
       "    .colab-df-convert:hover {\n",
       "      background-color: #E2EBFA;\n",
       "      box-shadow: 0px 1px 2px rgba(60, 64, 67, 0.3), 0px 1px 3px 1px rgba(60, 64, 67, 0.15);\n",
       "      fill: #174EA6;\n",
       "    }\n",
       "\n",
       "    [theme=dark] .colab-df-convert {\n",
       "      background-color: #3B4455;\n",
       "      fill: #D2E3FC;\n",
       "    }\n",
       "\n",
       "    [theme=dark] .colab-df-convert:hover {\n",
       "      background-color: #434B5C;\n",
       "      box-shadow: 0px 1px 3px 1px rgba(0, 0, 0, 0.15);\n",
       "      filter: drop-shadow(0px 1px 2px rgba(0, 0, 0, 0.3));\n",
       "      fill: #FFFFFF;\n",
       "    }\n",
       "  </style>\n",
       "\n",
       "      <script>\n",
       "        const buttonEl =\n",
       "          document.querySelector('#df-8eda95d6-5cfe-40aa-a22f-2232b6348c09 button.colab-df-convert');\n",
       "        buttonEl.style.display =\n",
       "          google.colab.kernel.accessAllowed ? 'block' : 'none';\n",
       "\n",
       "        async function convertToInteractive(key) {\n",
       "          const element = document.querySelector('#df-8eda95d6-5cfe-40aa-a22f-2232b6348c09');\n",
       "          const dataTable =\n",
       "            await google.colab.kernel.invokeFunction('convertToInteractive',\n",
       "                                                     [key], {});\n",
       "          if (!dataTable) return;\n",
       "\n",
       "          const docLinkHtml = 'Like what you see? Visit the ' +\n",
       "            '<a target=\"_blank\" href=https://colab.research.google.com/notebooks/data_table.ipynb>data table notebook</a>'\n",
       "            + ' to learn more about interactive tables.';\n",
       "          element.innerHTML = '';\n",
       "          dataTable['output_type'] = 'display_data';\n",
       "          await google.colab.output.renderOutput(dataTable, element);\n",
       "          const docLink = document.createElement('div');\n",
       "          docLink.innerHTML = docLinkHtml;\n",
       "          element.appendChild(docLink);\n",
       "        }\n",
       "      </script>\n",
       "    </div>\n",
       "  </div>\n",
       "  "
      ],
      "text/plain": [
       "                 Dates        Category                      Descript  \\\n",
       "0  2015-05-13 23:53:00        WARRANTS                WARRANT ARREST   \n",
       "1  2015-05-13 23:53:00  OTHER OFFENSES      TRAFFIC VIOLATION ARREST   \n",
       "2  2015-05-13 23:33:00  OTHER OFFENSES      TRAFFIC VIOLATION ARREST   \n",
       "3  2015-05-13 23:30:00   LARCENY/THEFT  GRAND THEFT FROM LOCKED AUTO   \n",
       "4  2015-05-13 23:30:00   LARCENY/THEFT  GRAND THEFT FROM LOCKED AUTO   \n",
       "\n",
       "   DayOfWeek PdDistrict      Resolution                    Address  \\\n",
       "0  Wednesday   NORTHERN  ARREST, BOOKED         OAK ST / LAGUNA ST   \n",
       "1  Wednesday   NORTHERN  ARREST, BOOKED         OAK ST / LAGUNA ST   \n",
       "2  Wednesday   NORTHERN  ARREST, BOOKED  VANNESS AV / GREENWICH ST   \n",
       "3  Wednesday   NORTHERN            NONE   1500 Block of LOMBARD ST   \n",
       "4  Wednesday       PARK            NONE  100 Block of BRODERICK ST   \n",
       "\n",
       "            X          Y  \n",
       "0 -122.425892  37.774599  \n",
       "1 -122.425892  37.774599  \n",
       "2 -122.424363  37.800414  \n",
       "3 -122.426995  37.800873  \n",
       "4 -122.438738  37.771541  "
      ]
     },
     "execution_count": 4,
     "metadata": {},
     "output_type": "execute_result"
    }
   ],
   "source": [
    "df1 = pd.read_csv('/content/sample_data/train.csv')\n",
    "df1.head()"
   ]
  },
  {
   "cell_type": "code",
   "execution_count": 6,
   "metadata": {
    "colab": {
     "base_uri": "https://localhost:8080/"
    },
    "id": "1QYIvRsS0EnT",
    "outputId": "de97f5e3-61d8-4c6d-ad1a-2dbea5d7cbac"
   },
   "outputs": [
    {
     "data": {
      "text/plain": [
       "(72586, 9)"
      ]
     },
     "execution_count": 6,
     "metadata": {},
     "output_type": "execute_result"
    }
   ],
   "source": [
    "df1.shape"
   ]
  },
  {
   "cell_type": "code",
   "execution_count": 8,
   "metadata": {
    "colab": {
     "base_uri": "https://localhost:8080/"
    },
    "id": "7ajyldfV0EsS",
    "outputId": "d69946ec-bf80-402e-d2f5-5ba6e4c7bd04"
   },
   "outputs": [
    {
     "name": "stdout",
     "output_type": "stream",
     "text": [
      "<class 'pandas.core.frame.DataFrame'>\n",
      "RangeIndex: 72586 entries, 0 to 72585\n",
      "Data columns (total 9 columns):\n",
      " #   Column      Non-Null Count  Dtype  \n",
      "---  ------      --------------  -----  \n",
      " 0   Dates       72586 non-null  object \n",
      " 1   Category    72586 non-null  object \n",
      " 2   Descript    72585 non-null  object \n",
      " 3   DayOfWeek   72585 non-null  object \n",
      " 4   PdDistrict  72585 non-null  object \n",
      " 5   Resolution  72585 non-null  object \n",
      " 6   Address     72585 non-null  object \n",
      " 7   X           72585 non-null  float64\n",
      " 8   Y           72585 non-null  float64\n",
      "dtypes: float64(2), object(7)\n",
      "memory usage: 5.0+ MB\n"
     ]
    }
   ],
   "source": [
    "df1.info()"
   ]
  },
  {
   "cell_type": "code",
   "execution_count": 9,
   "metadata": {
    "colab": {
     "base_uri": "https://localhost:8080/"
    },
    "id": "dyaeTvaV0Eu0",
    "outputId": "711a9624-8d26-4771-fcb6-18dc5807ba78"
   },
   "outputs": [
    {
     "data": {
      "text/plain": [
       "190"
      ]
     },
     "execution_count": 9,
     "metadata": {},
     "output_type": "execute_result"
    }
   ],
   "source": [
    "df1.duplicated().sum()"
   ]
  },
  {
   "cell_type": "code",
   "execution_count": 10,
   "metadata": {
    "colab": {
     "base_uri": "https://localhost:8080/"
    },
    "id": "a21g5hFQ0Ex0",
    "outputId": "e335d11e-cd9f-4ab9-c3e0-01b8507cd229"
   },
   "outputs": [
    {
     "data": {
      "text/plain": [
       "(72396, 9)"
      ]
     },
     "execution_count": 10,
     "metadata": {},
     "output_type": "execute_result"
    }
   ],
   "source": [
    "df1.drop_duplicates(keep = 'first', inplace = True)\n",
    "df1.shape"
   ]
  },
  {
   "cell_type": "code",
   "execution_count": 11,
   "metadata": {
    "colab": {
     "base_uri": "https://localhost:8080/"
    },
    "id": "oGuB56Op0E0a",
    "outputId": "9b93cb21-c590-4e23-8141-9a9ebfbd4117"
   },
   "outputs": [
    {
     "data": {
      "text/plain": [
       "Index(['Dates', 'Category', 'Descript', 'DayOfWeek', 'PdDistrict',\n",
       "       'Resolution', 'Address', 'X', 'Y'],\n",
       "      dtype='object')"
      ]
     },
     "execution_count": 11,
     "metadata": {},
     "output_type": "execute_result"
    }
   ],
   "source": [
    "df1.columns"
   ]
  },
  {
   "cell_type": "code",
   "execution_count": 12,
   "metadata": {
    "colab": {
     "base_uri": "https://localhost:8080/"
    },
    "id": "3FFU2Aw30E3b",
    "outputId": "6894c79d-526e-4e58-aab5-5446543a303e"
   },
   "outputs": [
    {
     "data": {
      "text/plain": [
       "Dates         31679\n",
       "Category         38\n",
       "Descript        657\n",
       "DayOfWeek         7\n",
       "PdDistrict       10\n",
       "Resolution       16\n",
       "Address       12658\n",
       "X             14701\n",
       "Y             14701\n",
       "dtype: int64"
      ]
     },
     "execution_count": 12,
     "metadata": {},
     "output_type": "execute_result"
    }
   ],
   "source": [
    "df1.nunique()"
   ]
  },
  {
   "cell_type": "code",
   "execution_count": 13,
   "metadata": {
    "colab": {
     "base_uri": "https://localhost:8080/"
    },
    "id": "kFoHLljs0E6Z",
    "outputId": "9ca736c4-ae09-45e2-f9e3-14328c977954"
   },
   "outputs": [
    {
     "data": {
      "text/plain": [
       "LARCENY/THEFT                  19520\n",
       "OTHER OFFENSES                  9457\n",
       "NON-CRIMINAL                    9128\n",
       "ASSAULT                         6240\n",
       "VEHICLE THEFT                   3681\n",
       "VANDALISM                       3458\n",
       "WARRANTS                        3131\n",
       "BURGLARY                        2811\n",
       "SUSPICIOUS OCC                  2523\n",
       "MISSING PERSON                  2141\n",
       "DRUG/NARCOTIC                   2124\n",
       "ROBBERY                         1866\n",
       "FRAUD                           1439\n",
       "SECONDARY CODES                  929\n",
       "WEAPON LAWS                      766\n",
       "TRESPASS                         539\n",
       "STOLEN PROPERTY                  455\n",
       "SEX OFFENSES FORCIBLE            377\n",
       "FORGERY/COUNTERFEITING           305\n",
       "DRUNKENNESS                      277\n",
       "KIDNAPPING                       238\n",
       "DRIVING UNDER THE INFLUENCE      170\n",
       "DISORDERLY CONDUCT               168\n",
       "ARSON                            138\n",
       "PROSTITUTION                     137\n",
       "RUNAWAY                           85\n",
       "EMBEZZLEMENT                      73\n",
       "LIQUOR LAWS                       71\n",
       "BRIBERY                           30\n",
       "FAMILY OFFENSES                   29\n",
       "SUICIDE                           26\n",
       "LOITERING                         21\n",
       "SEX OFFENSES NON FORCIBLE         11\n",
       "BAD CHECKS                        11\n",
       "EXTORTION                         10\n",
       "GAMBLING                           9\n",
       "TREA                               1\n",
       "LARCENY/T                          1\n",
       "Name: Category, dtype: int64"
      ]
     },
     "execution_count": 13,
     "metadata": {},
     "output_type": "execute_result"
    }
   ],
   "source": [
    "df1.Category.value_counts()"
   ]
  },
  {
   "cell_type": "code",
   "execution_count": 14,
   "metadata": {
    "colab": {
     "base_uri": "https://localhost:8080/"
    },
    "id": "kNz3U7Y_0E99",
    "outputId": "f89d85f2-c036-4136-c0f7-c0b6e8380800"
   },
   "outputs": [
    {
     "data": {
      "text/plain": [
       "NONE                                      49308\n",
       "ARREST, BOOKED                            16444\n",
       "ARREST, CITED                              2730\n",
       "UNFOUNDED                                  1039\n",
       "PSYCHOPATHIC CASE                          1037\n",
       "LOCATED                                     796\n",
       "JUVENILE BOOKED                             455\n",
       "EXCEPTIONAL CLEARANCE                       272\n",
       "COMPLAINANT REFUSES TO PROSECUTE             87\n",
       "JUVENILE CITED                               74\n",
       "CLEARED-CONTACT JUVENILE FOR MORE INFO       48\n",
       "PROSECUTED BY OUTSIDE AGENCY                 34\n",
       "DISTRICT ATTORNEY REFUSES TO PROSECUTE       26\n",
       "NOT PROSECUTED                               23\n",
       "JUVENILE ADMONISHED                          12\n",
       "JUVENILE DIVERTED                            10\n",
       "Name: Resolution, dtype: int64"
      ]
     },
     "execution_count": 14,
     "metadata": {},
     "output_type": "execute_result"
    }
   ],
   "source": [
    "df1.Resolution.value_counts()"
   ]
  },
  {
   "cell_type": "code",
   "execution_count": 15,
   "metadata": {
    "colab": {
     "base_uri": "https://localhost:8080/"
    },
    "id": "232kk67s2wxj",
    "outputId": "5c4032fc-de30-4f34-a2d5-5e7e8fab4612"
   },
   "outputs": [
    {
     "data": {
      "text/plain": [
       "Category         object\n",
       "Descript         object\n",
       "PdDistrict       object\n",
       "Resolution       object\n",
       "Address          object\n",
       "X               float64\n",
       "Y               float64\n",
       "year              int64\n",
       "month             int64\n",
       "day_of_month      int64\n",
       "day_of_week       int64\n",
       "hour              int64\n",
       "dtype: object"
      ]
     },
     "execution_count": 15,
     "metadata": {},
     "output_type": "execute_result"
    }
   ],
   "source": [
    "df1['Dates'] = pd.to_datetime(df1['Dates'])\n",
    "\n",
    "df1['year'] = df1['Dates'].dt.year\n",
    "df1['month'] = df1['Dates'].dt.month\n",
    "df1['day_of_month'] = df1['Dates'].dt.day\n",
    "df1['day_of_week'] = df1['Dates'].dt.day_of_week\n",
    "df1['hour'] = df1['Dates'].dt.hour\n",
    "df1.drop(['Dates', 'DayOfWeek'], axis = 1, inplace = True)\n",
    "df1.dtypes"
   ]
  },
  {
   "cell_type": "code",
   "execution_count": 16,
   "metadata": {
    "id": "YHM1q9pa2w7b"
   },
   "outputs": [],
   "source": [
    "df1.columns = [item.lower() for item in df1.columns]"
   ]
  },
  {
   "cell_type": "code",
   "execution_count": 17,
   "metadata": {
    "colab": {
     "base_uri": "https://localhost:8080/",
     "height": 441
    },
    "id": "bMJY1rMn2w-T",
    "outputId": "d8a6ecc3-1b56-4f30-8fe1-ac7989fc5525"
   },
   "outputs": [
    {
     "data": {
      "text/html": [
       "\n",
       "  <div id=\"df-fc93e3ee-b383-4555-8163-d857710c04ea\">\n",
       "    <div class=\"colab-df-container\">\n",
       "      <div>\n",
       "<style scoped>\n",
       "    .dataframe tbody tr th:only-of-type {\n",
       "        vertical-align: middle;\n",
       "    }\n",
       "\n",
       "    .dataframe tbody tr th {\n",
       "        vertical-align: top;\n",
       "    }\n",
       "\n",
       "    .dataframe thead th {\n",
       "        text-align: right;\n",
       "    }\n",
       "</style>\n",
       "<table border=\"1\" class=\"dataframe\">\n",
       "  <thead>\n",
       "    <tr style=\"text-align: right;\">\n",
       "      <th>category</th>\n",
       "      <th>ARSON</th>\n",
       "      <th>ASSAULT</th>\n",
       "      <th>BAD CHECKS</th>\n",
       "      <th>BRIBERY</th>\n",
       "      <th>BURGLARY</th>\n",
       "      <th>DISORDERLY CONDUCT</th>\n",
       "      <th>DRIVING UNDER THE INFLUENCE</th>\n",
       "      <th>DRUG/NARCOTIC</th>\n",
       "      <th>DRUNKENNESS</th>\n",
       "      <th>EMBEZZLEMENT</th>\n",
       "      <th>...</th>\n",
       "      <th>SEX OFFENSES NON FORCIBLE</th>\n",
       "      <th>STOLEN PROPERTY</th>\n",
       "      <th>SUICIDE</th>\n",
       "      <th>SUSPICIOUS OCC</th>\n",
       "      <th>TREA</th>\n",
       "      <th>TRESPASS</th>\n",
       "      <th>VANDALISM</th>\n",
       "      <th>VEHICLE THEFT</th>\n",
       "      <th>WARRANTS</th>\n",
       "      <th>WEAPON LAWS</th>\n",
       "    </tr>\n",
       "    <tr>\n",
       "      <th>day_of_week</th>\n",
       "      <th></th>\n",
       "      <th></th>\n",
       "      <th></th>\n",
       "      <th></th>\n",
       "      <th></th>\n",
       "      <th></th>\n",
       "      <th></th>\n",
       "      <th></th>\n",
       "      <th></th>\n",
       "      <th></th>\n",
       "      <th></th>\n",
       "      <th></th>\n",
       "      <th></th>\n",
       "      <th></th>\n",
       "      <th></th>\n",
       "      <th></th>\n",
       "      <th></th>\n",
       "      <th></th>\n",
       "      <th></th>\n",
       "      <th></th>\n",
       "      <th></th>\n",
       "    </tr>\n",
       "  </thead>\n",
       "  <tbody>\n",
       "    <tr>\n",
       "      <th>0</th>\n",
       "      <td>28</td>\n",
       "      <td>847</td>\n",
       "      <td>3</td>\n",
       "      <td>5</td>\n",
       "      <td>405</td>\n",
       "      <td>25</td>\n",
       "      <td>15</td>\n",
       "      <td>347</td>\n",
       "      <td>25</td>\n",
       "      <td>18</td>\n",
       "      <td>...</td>\n",
       "      <td>0</td>\n",
       "      <td>62</td>\n",
       "      <td>5</td>\n",
       "      <td>358</td>\n",
       "      <td>0</td>\n",
       "      <td>74</td>\n",
       "      <td>513</td>\n",
       "      <td>547</td>\n",
       "      <td>445</td>\n",
       "      <td>106</td>\n",
       "    </tr>\n",
       "    <tr>\n",
       "      <th>1</th>\n",
       "      <td>19</td>\n",
       "      <td>794</td>\n",
       "      <td>1</td>\n",
       "      <td>2</td>\n",
       "      <td>407</td>\n",
       "      <td>19</td>\n",
       "      <td>19</td>\n",
       "      <td>306</td>\n",
       "      <td>28</td>\n",
       "      <td>8</td>\n",
       "      <td>...</td>\n",
       "      <td>3</td>\n",
       "      <td>73</td>\n",
       "      <td>1</td>\n",
       "      <td>373</td>\n",
       "      <td>1</td>\n",
       "      <td>71</td>\n",
       "      <td>464</td>\n",
       "      <td>468</td>\n",
       "      <td>458</td>\n",
       "      <td>91</td>\n",
       "    </tr>\n",
       "    <tr>\n",
       "      <th>2</th>\n",
       "      <td>21</td>\n",
       "      <td>879</td>\n",
       "      <td>1</td>\n",
       "      <td>7</td>\n",
       "      <td>424</td>\n",
       "      <td>33</td>\n",
       "      <td>25</td>\n",
       "      <td>339</td>\n",
       "      <td>34</td>\n",
       "      <td>8</td>\n",
       "      <td>...</td>\n",
       "      <td>1</td>\n",
       "      <td>65</td>\n",
       "      <td>4</td>\n",
       "      <td>407</td>\n",
       "      <td>0</td>\n",
       "      <td>79</td>\n",
       "      <td>468</td>\n",
       "      <td>555</td>\n",
       "      <td>497</td>\n",
       "      <td>103</td>\n",
       "    </tr>\n",
       "    <tr>\n",
       "      <th>3</th>\n",
       "      <td>15</td>\n",
       "      <td>848</td>\n",
       "      <td>3</td>\n",
       "      <td>3</td>\n",
       "      <td>380</td>\n",
       "      <td>26</td>\n",
       "      <td>15</td>\n",
       "      <td>349</td>\n",
       "      <td>35</td>\n",
       "      <td>11</td>\n",
       "      <td>...</td>\n",
       "      <td>4</td>\n",
       "      <td>67</td>\n",
       "      <td>5</td>\n",
       "      <td>376</td>\n",
       "      <td>0</td>\n",
       "      <td>77</td>\n",
       "      <td>447</td>\n",
       "      <td>467</td>\n",
       "      <td>462</td>\n",
       "      <td>114</td>\n",
       "    </tr>\n",
       "    <tr>\n",
       "      <th>4</th>\n",
       "      <td>23</td>\n",
       "      <td>924</td>\n",
       "      <td>3</td>\n",
       "      <td>5</td>\n",
       "      <td>487</td>\n",
       "      <td>23</td>\n",
       "      <td>28</td>\n",
       "      <td>280</td>\n",
       "      <td>30</td>\n",
       "      <td>11</td>\n",
       "      <td>...</td>\n",
       "      <td>0</td>\n",
       "      <td>69</td>\n",
       "      <td>4</td>\n",
       "      <td>357</td>\n",
       "      <td>0</td>\n",
       "      <td>82</td>\n",
       "      <td>494</td>\n",
       "      <td>552</td>\n",
       "      <td>454</td>\n",
       "      <td>111</td>\n",
       "    </tr>\n",
       "    <tr>\n",
       "      <th>5</th>\n",
       "      <td>19</td>\n",
       "      <td>968</td>\n",
       "      <td>0</td>\n",
       "      <td>3</td>\n",
       "      <td>368</td>\n",
       "      <td>18</td>\n",
       "      <td>36</td>\n",
       "      <td>245</td>\n",
       "      <td>67</td>\n",
       "      <td>8</td>\n",
       "      <td>...</td>\n",
       "      <td>1</td>\n",
       "      <td>64</td>\n",
       "      <td>5</td>\n",
       "      <td>336</td>\n",
       "      <td>0</td>\n",
       "      <td>80</td>\n",
       "      <td>568</td>\n",
       "      <td>556</td>\n",
       "      <td>434</td>\n",
       "      <td>112</td>\n",
       "    </tr>\n",
       "    <tr>\n",
       "      <th>6</th>\n",
       "      <td>13</td>\n",
       "      <td>980</td>\n",
       "      <td>0</td>\n",
       "      <td>5</td>\n",
       "      <td>340</td>\n",
       "      <td>24</td>\n",
       "      <td>32</td>\n",
       "      <td>258</td>\n",
       "      <td>58</td>\n",
       "      <td>9</td>\n",
       "      <td>...</td>\n",
       "      <td>2</td>\n",
       "      <td>55</td>\n",
       "      <td>2</td>\n",
       "      <td>316</td>\n",
       "      <td>0</td>\n",
       "      <td>76</td>\n",
       "      <td>504</td>\n",
       "      <td>536</td>\n",
       "      <td>381</td>\n",
       "      <td>129</td>\n",
       "    </tr>\n",
       "  </tbody>\n",
       "</table>\n",
       "<p>7 rows × 38 columns</p>\n",
       "</div>\n",
       "      <button class=\"colab-df-convert\" onclick=\"convertToInteractive('df-fc93e3ee-b383-4555-8163-d857710c04ea')\"\n",
       "              title=\"Convert this dataframe to an interactive table.\"\n",
       "              style=\"display:none;\">\n",
       "        \n",
       "  <svg xmlns=\"http://www.w3.org/2000/svg\" height=\"24px\"viewBox=\"0 0 24 24\"\n",
       "       width=\"24px\">\n",
       "    <path d=\"M0 0h24v24H0V0z\" fill=\"none\"/>\n",
       "    <path d=\"M18.56 5.44l.94 2.06.94-2.06 2.06-.94-2.06-.94-.94-2.06-.94 2.06-2.06.94zm-11 1L8.5 8.5l.94-2.06 2.06-.94-2.06-.94L8.5 2.5l-.94 2.06-2.06.94zm10 10l.94 2.06.94-2.06 2.06-.94-2.06-.94-.94-2.06-.94 2.06-2.06.94z\"/><path d=\"M17.41 7.96l-1.37-1.37c-.4-.4-.92-.59-1.43-.59-.52 0-1.04.2-1.43.59L10.3 9.45l-7.72 7.72c-.78.78-.78 2.05 0 2.83L4 21.41c.39.39.9.59 1.41.59.51 0 1.02-.2 1.41-.59l7.78-7.78 2.81-2.81c.8-.78.8-2.07 0-2.86zM5.41 20L4 18.59l7.72-7.72 1.47 1.35L5.41 20z\"/>\n",
       "  </svg>\n",
       "      </button>\n",
       "      \n",
       "  <style>\n",
       "    .colab-df-container {\n",
       "      display:flex;\n",
       "      flex-wrap:wrap;\n",
       "      gap: 12px;\n",
       "    }\n",
       "\n",
       "    .colab-df-convert {\n",
       "      background-color: #E8F0FE;\n",
       "      border: none;\n",
       "      border-radius: 50%;\n",
       "      cursor: pointer;\n",
       "      display: none;\n",
       "      fill: #1967D2;\n",
       "      height: 32px;\n",
       "      padding: 0 0 0 0;\n",
       "      width: 32px;\n",
       "    }\n",
       "\n",
       "    .colab-df-convert:hover {\n",
       "      background-color: #E2EBFA;\n",
       "      box-shadow: 0px 1px 2px rgba(60, 64, 67, 0.3), 0px 1px 3px 1px rgba(60, 64, 67, 0.15);\n",
       "      fill: #174EA6;\n",
       "    }\n",
       "\n",
       "    [theme=dark] .colab-df-convert {\n",
       "      background-color: #3B4455;\n",
       "      fill: #D2E3FC;\n",
       "    }\n",
       "\n",
       "    [theme=dark] .colab-df-convert:hover {\n",
       "      background-color: #434B5C;\n",
       "      box-shadow: 0px 1px 3px 1px rgba(0, 0, 0, 0.15);\n",
       "      filter: drop-shadow(0px 1px 2px rgba(0, 0, 0, 0.3));\n",
       "      fill: #FFFFFF;\n",
       "    }\n",
       "  </style>\n",
       "\n",
       "      <script>\n",
       "        const buttonEl =\n",
       "          document.querySelector('#df-fc93e3ee-b383-4555-8163-d857710c04ea button.colab-df-convert');\n",
       "        buttonEl.style.display =\n",
       "          google.colab.kernel.accessAllowed ? 'block' : 'none';\n",
       "\n",
       "        async function convertToInteractive(key) {\n",
       "          const element = document.querySelector('#df-fc93e3ee-b383-4555-8163-d857710c04ea');\n",
       "          const dataTable =\n",
       "            await google.colab.kernel.invokeFunction('convertToInteractive',\n",
       "                                                     [key], {});\n",
       "          if (!dataTable) return;\n",
       "\n",
       "          const docLinkHtml = 'Like what you see? Visit the ' +\n",
       "            '<a target=\"_blank\" href=https://colab.research.google.com/notebooks/data_table.ipynb>data table notebook</a>'\n",
       "            + ' to learn more about interactive tables.';\n",
       "          element.innerHTML = '';\n",
       "          dataTable['output_type'] = 'display_data';\n",
       "          await google.colab.output.renderOutput(dataTable, element);\n",
       "          const docLink = document.createElement('div');\n",
       "          docLink.innerHTML = docLinkHtml;\n",
       "          element.appendChild(docLink);\n",
       "        }\n",
       "      </script>\n",
       "    </div>\n",
       "  </div>\n",
       "  "
      ],
      "text/plain": [
       "category     ARSON  ASSAULT  BAD CHECKS  BRIBERY  BURGLARY  \\\n",
       "day_of_week                                                  \n",
       "0               28      847           3        5       405   \n",
       "1               19      794           1        2       407   \n",
       "2               21      879           1        7       424   \n",
       "3               15      848           3        3       380   \n",
       "4               23      924           3        5       487   \n",
       "5               19      968           0        3       368   \n",
       "6               13      980           0        5       340   \n",
       "\n",
       "category     DISORDERLY CONDUCT  DRIVING UNDER THE INFLUENCE  DRUG/NARCOTIC  \\\n",
       "day_of_week                                                                   \n",
       "0                            25                           15            347   \n",
       "1                            19                           19            306   \n",
       "2                            33                           25            339   \n",
       "3                            26                           15            349   \n",
       "4                            23                           28            280   \n",
       "5                            18                           36            245   \n",
       "6                            24                           32            258   \n",
       "\n",
       "category     DRUNKENNESS  EMBEZZLEMENT  ...  SEX OFFENSES NON FORCIBLE  \\\n",
       "day_of_week                             ...                              \n",
       "0                     25            18  ...                          0   \n",
       "1                     28             8  ...                          3   \n",
       "2                     34             8  ...                          1   \n",
       "3                     35            11  ...                          4   \n",
       "4                     30            11  ...                          0   \n",
       "5                     67             8  ...                          1   \n",
       "6                     58             9  ...                          2   \n",
       "\n",
       "category     STOLEN PROPERTY  SUICIDE  SUSPICIOUS OCC  TREA  TRESPASS  \\\n",
       "day_of_week                                                             \n",
       "0                         62        5             358     0        74   \n",
       "1                         73        1             373     1        71   \n",
       "2                         65        4             407     0        79   \n",
       "3                         67        5             376     0        77   \n",
       "4                         69        4             357     0        82   \n",
       "5                         64        5             336     0        80   \n",
       "6                         55        2             316     0        76   \n",
       "\n",
       "category     VANDALISM  VEHICLE THEFT  WARRANTS  WEAPON LAWS  \n",
       "day_of_week                                                   \n",
       "0                  513            547       445          106  \n",
       "1                  464            468       458           91  \n",
       "2                  468            555       497          103  \n",
       "3                  447            467       462          114  \n",
       "4                  494            552       454          111  \n",
       "5                  568            556       434          112  \n",
       "6                  504            536       381          129  \n",
       "\n",
       "[7 rows x 38 columns]"
      ]
     },
     "execution_count": 17,
     "metadata": {},
     "output_type": "execute_result"
    }
   ],
   "source": [
    "pd.crosstab(df1['day_of_week'], df1['category'])"
   ]
  },
  {
   "cell_type": "code",
   "execution_count": 54,
   "metadata": {
    "id": "imEeiMDc4FpY"
   },
   "outputs": [],
   "source": [
    "import matplotlib.pyplot as plt\n",
    "import seaborn as sns\n",
    "from sklearn.preprocessing import LabelEncoder\n",
    "from sklearn.model_selection import train_test_split\n",
    "from sklearn.preprocessing import MinMaxScaler\n",
    "from sklearn.preprocessing import StandardScaler\n",
    "from sklearn.tree import DecisionTreeClassifier\n",
    "from sklearn.neighbors import KNeighborsClassifier\n",
    "from sklearn.metrics import accuracy_score\n",
    "from sklearn.ensemble import RandomForestClassifier\n",
    "from sklearn.tree import DecisionTreeClassifier\n",
    "from xgboost import XGBClassifier"
   ]
  },
  {
   "cell_type": "code",
   "execution_count": 22,
   "metadata": {
    "colab": {
     "base_uri": "https://localhost:8080/",
     "height": 261
    },
    "id": "2S1uroxq2xBs",
    "outputId": "bcd29d35-e061-4364-cd01-ff881f8b879c"
   },
   "outputs": [
    {
     "data": {
      "image/png": "[encoded data removed]",
      "text/plain": [
       "<Figure size 1080x360 with 1 Axes>"
      ]
     },
     "metadata": {
      "needs_background": "light"
     },
     "output_type": "display_data"
    }
   ],
   "source": [
    "category_count = df1.category.value_counts().to_frame().reset_index()\n",
    "top5category = category_count.iloc[:5] \n",
    "\n",
    "dfcategory = df1.hour.value_counts().to_frame().sort_index()\n",
    "plt.figure(figsize = (15, 5))\n",
    "plt.plot(dfcategory)\n",
    "\n",
    "for item in top5category['index']:\n",
    "    dfcategory = df1[df1.category == item].hour.value_counts().to_frame().sort_index()\n",
    "    plt.plot(dfcategory)\n",
    "plt.legend(['All Categories'] + list(top5category['index'].values))\n",
    "plt.xlabel('_hours_')\n",
    "_ = plt.ylabel('_count_')"
   ]
  },
  {
   "cell_type": "code",
   "execution_count": 24,
   "metadata": {
    "colab": {
     "base_uri": "https://localhost:8080/",
     "height": 275
    },
    "id": "GBUtntNA2xE1",
    "outputId": "681034f1-7201-462e-b46a-c7e8b1cf0c09"
   },
   "outputs": [
    {
     "data": {
      "text/plain": [
       "<matplotlib.axes._subplots.AxesSubplot at 0x7f459310fcd0>"
      ]
     },
     "execution_count": 24,
     "metadata": {},
     "output_type": "execute_result"
    },
    {
     "data": {
      "image/png": "[encoded data removed]",
      "text/plain": [
       "<Figure size 1080x360 with 1 Axes>"
      ]
     },
     "metadata": {
      "needs_background": "light"
     },
     "output_type": "display_data"
    }
   ],
   "source": [
    "df2 = df1.groupby('pddistrict').count().reset_index()[['pddistrict', 'category']].sort_values('category', ascending = False)\n",
    "plt.figure(figsize = (15, 5))\n",
    "sns.barplot(x = 'pddistrict',y = 'category',data = df2, palette= 'Blues_r')"
   ]
  },
  {
   "cell_type": "code",
   "execution_count": 26,
   "metadata": {
    "id": "Bt05ZLZE4yiA"
   },
   "outputs": [],
   "source": [
    "top100 = df1['descript'].value_counts()[:200].index\n",
    "df1['descript'] = df1['descript'].apply(lambda x :x if x in top100 else 'other' )\n",
    "x = df1.drop(['category', 'address'], axis = 1)\n",
    "y = df1['category']"
   ]
  },
  {
   "cell_type": "code",
   "execution_count": 27,
   "metadata": {
    "id": "xWTHIvyU4yfP"
   },
   "outputs": [],
   "source": [
    "labEn = LabelEncoder()\n",
    "y = labEn.fit_transform(y)\n",
    "x['descript'] = labEn.fit_transform(x['descript'])\n",
    "x['pddistrict'] = labEn.fit_transform(x['pddistrict'])\n",
    "x['resolution'] = labEn.fit_transform(x['resolution'])"
   ]
  },
  {
   "cell_type": "code",
   "execution_count": 62,
   "metadata": {
    "id": "LyeeT5_KmiO3"
   },
   "outputs": [],
   "source": [
    "mms = MinMaxScaler()\n",
    "x_train = mms.fit_transform(x_train)\n",
    "x_test = mms.transform(x_test)"
   ]
  },
  {
   "cell_type": "code",
   "execution_count": 63,
   "metadata": {
    "id": "l1r8NyKimlwR"
   },
   "outputs": [],
   "source": [
    "sc = StandardScaler()\n",
    "x_train = sc.fit_transform(x_train)\n",
    "x_test = sc.transform(x_test)"
   ]
  },
  {
   "cell_type": "code",
   "execution_count": 64,
   "metadata": {
    "colab": {
     "base_uri": "https://localhost:8080/"
    },
    "id": "8fEPW5Mij4kf",
    "outputId": "981c49e7-3333-4015-8ad3-93022241b5fe"
   },
   "outputs": [
    {
     "name": "stdout",
     "output_type": "stream",
     "text": [
      "x train : (61536, 10) \t\tx test : (10860, 10)\n",
      "y train : (61536,) \t\ty test : (10860,)\n"
     ]
    }
   ],
   "source": [
    "x_train, x_test, y_train, y_test = train_test_split(x, y, test_size = 0.15, random_state = 1)\n",
    "print('x train :', x_train.shape,'\\t\\tx test :', x_test.shape)\n",
    "print('y train :', y_train.shape,'\\t\\ty test :', y_test.shape)"
   ]
  },
  {
   "cell_type": "code",
   "execution_count": 69,
   "metadata": {
    "id": "KRkV9g5F4yYj"
   },
   "outputs": [],
   "source": [
    "x_train = x_train.fillna(x_train.mean())\n",
    "rfc = RandomForestClassifier(random_state = 42)\n",
    "rfc.fit(x_train, y_train)\n",
    "y_pred = rfc.predict(x_test)"
   ]
  },
  {
   "cell_type": "code",
   "execution_count": 70,
   "metadata": {
    "colab": {
     "base_uri": "https://localhost:8080/"
    },
    "id": "uLMyBQXsuMUh",
    "outputId": "2e825888-dc05-48f3-93a8-0a3215c3cfc0"
   },
   "outputs": [
    {
     "data": {
      "text/plain": [
       "0.8980662983425415"
      ]
     },
     "execution_count": 70,
     "metadata": {},
     "output_type": "execute_result"
    }
   ],
   "source": [
    "accuracy_score(y_pred, y_test)"
   ]
  },
  {
   "cell_type": "code",
   "execution_count": 71,
   "metadata": {
    "id": "cO9F9dfjj3ln"
   },
   "outputs": [],
   "source": [
    "dtc = DecisionTreeClassifier(random_state= 1)\n",
    "dtc.fit(x_train, y_train)\n",
    "y_pred = dtc.predict(x_test)"
   ]
  },
  {
   "cell_type": "code",
   "execution_count": 72,
   "metadata": {
    "colab": {
     "base_uri": "https://localhost:8080/"
    },
    "id": "hEbKeXdOuR7i",
    "outputId": "be22463d-d4e7-441f-a95c-9ab0ed9c1561"
   },
   "outputs": [
    {
     "data": {
      "text/plain": [
       "0.9606813996316759"
      ]
     },
     "execution_count": 72,
     "metadata": {},
     "output_type": "execute_result"
    }
   ],
   "source": [
    "accuracy_score(y_pred, y_test)"
   ]
  },
  {
   "cell_type": "code",
   "execution_count": 74,
   "metadata": {
    "id": "NTU4LIRh4yI7"
   },
   "outputs": [],
   "source": [
    "model = XGBClassifier()\n",
    "model.fit(x_train, y_train)\n",
    "y_pred = model.predict(x_test)"
   ]
  },
  {
   "cell_type": "code",
   "execution_count": 76,
   "metadata": {
    "colab": {
     "base_uri": "https://localhost:8080/"
    },
    "id": "fD8u7D_BvP6a",
    "outputId": "b550be25-45b5-4534-e4a1-7189d93f5229"
   },
   "outputs": [
    {
     "data": {
      "text/plain": [
       "0.800828729281768"
      ]
     },
     "execution_count": 76,
     "metadata": {},
     "output_type": "execute_result"
    }
   ],
   "source": [
    "accuracy_score(y_pred, y_test)"
   ]
  },
  {
   "cell_type": "code",
   "execution_count": 75,
   "metadata": {
    "id": "0E-KjkZIu5XT"
   },
   "outputs": [],
   "source": [
    "knn = KNeighborsClassifier()\n",
    "knn.fit(x_train, y_train)\n",
    "y_pred = knn.predict(x_test)"
   ]
  },
  {
   "cell_type": "code",
   "execution_count": 77,
   "metadata": {
    "colab": {
     "base_uri": "https://localhost:8080/"
    },
    "id": "Lb7I3CN9vPNg",
    "outputId": "5353dfb8-29c8-4c28-e593-20936cedcb9c"
   },
   "outputs": [
    {
     "data": {
      "text/plain": [
       "0.800828729281768"
      ]
     },
     "execution_count": 77,
     "metadata": {},
     "output_type": "execute_result"
    }
   ],
   "source": [
    "accuracy_score(y_pred, y_test)"
   ]
  }
 ],
 "metadata": {
  "colab": {
   "name": "BDAMiniProject.ipynb",
   "provenance": []
  },
  "kernelspec": {
   "display_name": "Python 3 (ipykernel)",
   "language": "python",
   "name": "python3"
  },
  "language_info": {
   "codemirror_mode": {
    "name": "ipython",
    "version": 3
   },
   "file_extension": ".py",
   "mimetype": "text/x-python",
   "name": "python",
   "nbconvert_exporter": "python",
   "pygments_lexer": "ipython3",
   "version": "3.9.7"
  }
 },
 "nbformat": 4,
 "nbformat_minor": 1
}
